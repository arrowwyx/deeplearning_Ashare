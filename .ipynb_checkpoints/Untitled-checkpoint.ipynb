{
 "cells": [
  {
   "cell_type": "code",
   "execution_count": 1,
   "id": "2ffe8f8f",
   "metadata": {},
   "outputs": [],
   "source": [
    "import pandas as pd"
   ]
  },
  {
   "cell_type": "code",
   "execution_count": 2,
   "id": "71f7eb42",
   "metadata": {},
   "outputs": [],
   "source": [
    "df = pd.read_hdf('Data/2020_2023kBar.h5')"
   ]
  },
  {
   "cell_type": "code",
   "execution_count": 5,
   "id": "dab9642d",
   "metadata": {},
   "outputs": [
    {
     "data": {
      "text/plain": [
       "open         20.860000\n",
       "high         21.370000\n",
       "low          20.690000\n",
       "close        20.980000\n",
       "volume    74734.000000\n",
       "vwap       1420.257714\n",
       "Name: (20231122, 603777), dtype: float64"
      ]
     },
     "execution_count": 5,
     "metadata": {},
     "output_type": "execute_result"
    }
   ],
   "source": [
    "df.loc['20231122','603777']"
   ]
  },
  {
   "cell_type": "code",
   "execution_count": null,
   "id": "74e394d5",
   "metadata": {},
   "outputs": [],
   "source": []
  }
 ],
 "metadata": {
  "kernelspec": {
   "display_name": "Python 3 (ipykernel)",
   "language": "python",
   "name": "python3"
  },
  "language_info": {
   "codemirror_mode": {
    "name": "ipython",
    "version": 3
   },
   "file_extension": ".py",
   "mimetype": "text/x-python",
   "name": "python",
   "nbconvert_exporter": "python",
   "pygments_lexer": "ipython3",
   "version": "3.10.9"
  }
 },
 "nbformat": 4,
 "nbformat_minor": 5
}
